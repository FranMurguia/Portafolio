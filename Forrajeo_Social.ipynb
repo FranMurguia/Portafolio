{
 "cells": [
  {
   "cell_type": "markdown",
   "metadata": {},
   "source": [
    "# Análisis de datos para el experimento Forrajeo Social"
   ]
  },
  {
   "cell_type": "markdown",
   "metadata": {},
   "source": [
    "## NOTA\n",
    "\n",
    "Si se quiere observar el Notebook completo con los comentarios del código, se puede acceder al siguiente enlace:\n",
    "[blue_text](https://github.com/FranMurguia/Portafolio/blob/main/Forrajeo_Social%5BC%5D.ipynb)"
   ]
  },
  {
   "cell_type": "markdown",
   "metadata": {},
   "source": [
    "## Resumen\n",
    "\n",
    "En el presente Notebook, se presenta un análisis de los primeros datos recolectados del experimento ***Forrajeo Social***,y para la realización del experimento, desarrollé un videojuego multijugador en línea con el motor *Unity* y la API *Mirror Networking*, el cuál nombré ***The Foraging Game***.\n",
    "\n",
    "El experimento intenta simular un escenario de búsqueda de recursos por parte de 2 o más participantes, y para esto, en el mapa de juego hay dos zonas separadas entre sí denominadas ***parches*** (uno con el ambiente de un bosque y otro de un desierto), y dentro de los parches estaban arbustos en donde se encontraban los recursos que debían de encontrar. \n",
    "\n",
    "Uno de los parches tendría más recursos que el otro, en una relación **50%/30%**, es decir, en un parche seleccionado por el juego de forma aleatoria, habría un **50%** de probabilidad de que al buscar en un arbusto, hubiera un recurso (un hongo) y en el otro parche solo habría un **30%** de probabilidad.\n",
    "\n",
    "Todos los jugadores buscarían a la vez y dentro de un tiempo límite, que dadas las características del videojuego (tamaño del mapa, de los parches, separación entre cada parche, velocidad de desplazamiento del jugador, etc.), se eligió que fuera de 3 minutos.\n",
    "\n",
    "El objetivo de los participantes, es encontrar la mayor cantidad de recursos y decidir cuál parche es el de mayor recursos, y si acertaban, se les aumentaba su puntuación, de lo contrario, disminuía.\n",
    "\n",
    "Por cada grupo de participantes (5-10 jugadores), se realizaban 3 sesiones de búsqueda y cada punto que obtuvieron a lo largo de las 3 sesiones, se les otorgó un boleto para poder participar en un sorteo monetario."
   ]
  },
  {
   "cell_type": "markdown",
   "metadata": {},
   "source": [
    "## Data Wrangling\n",
    "\n",
    "Ya que tenemos el contexto del experimento, empecemos cargando los datos "
   ]
  },
  {
   "cell_type": "code",
   "execution_count": null,
   "metadata": {},
   "outputs": [],
   "source": []
  }
 ],
 "metadata": {
  "kernelspec": {
   "display_name": "Python 3",
   "language": "python",
   "name": "python3"
  },
  "language_info": {
   "codemirror_mode": {
    "name": "ipython",
    "version": 3
   },
   "file_extension": ".py",
   "mimetype": "text/x-python",
   "name": "python",
   "nbconvert_exporter": "python",
   "pygments_lexer": "ipython3",
   "version": "3.8.3"
  }
 },
 "nbformat": 4,
 "nbformat_minor": 4
}
